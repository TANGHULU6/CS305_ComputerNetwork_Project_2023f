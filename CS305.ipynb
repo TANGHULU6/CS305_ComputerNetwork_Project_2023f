{
 "cells": [
  {
   "cell_type": "raw",
   "source": [
    "In the project, the majority of tasks will undergo script testing, with only a few being reviewed by the TA. Be aware that this testing material is not final and cannot cover all testing scenarios. If you are caught cheating during testing, the whole group will receive a score of 0 for the project."
   ],
   "metadata": {
    "collapsed": false
   }
  },
  {
   "cell_type": "raw",
   "source": [
    "The script checks using the requests library in Python. Before testing, ensure that the server has three users with the usernames \"client1\", \"client2\", and \"client3\", and the passwords \"123\". In the upcoming tests, if the Authorization field is needed, use \"client1\" and \"123\" as both the username and password."
   ],
   "metadata": {
    "collapsed": false
   }
  },
  {
   "cell_type": "code",
   "execution_count": 1,
   "outputs": [],
   "source": [
    "import requests"
   ],
   "metadata": {
    "collapsed": false,
    "ExecuteTime": {
     "end_time": "2023-12-26T03:49:26.596539500Z",
     "start_time": "2023-12-26T03:49:26.527238800Z"
    }
   }
  },
  {
   "cell_type": "raw",
   "source": [
    "The initial check is the head request, a fundamental job of the server is to respond to the request. Use the \"headers\" parameter for logging into the server. Disregard this parameter if the server lacks the login feature."
   ],
   "metadata": {
    "collapsed": false
   }
  },
  {
   "cell_type": "code",
   "execution_count": 2,
   "outputs": [
    {
     "name": "stdout",
     "output_type": "stream",
     "text": [
      "<Response [200]>\n"
     ]
    }
   ],
   "source": [
    "import requests\n",
    "headers={\"Authorization\": \"Basic Y2xpZW50MToxMjM=\"}\n",
    "q=requests.head('http://localhost:8080/',headers=headers)\n",
    "print(q)\n"
   ],
   "metadata": {
    "collapsed": false,
    "ExecuteTime": {
     "end_time": "2023-12-26T03:49:26.607878900Z",
     "start_time": "2023-12-26T03:49:26.597540600Z"
    }
   }
  },
  {
   "cell_type": "raw",
   "source": [
    "Test get request"
   ],
   "metadata": {
    "collapsed": false
   }
  },
  {
   "cell_type": "code",
   "execution_count": 3,
   "outputs": [
    {
     "name": "stdout",
     "output_type": "stream",
     "text": [
      "<Response [200]>\n"
     ]
    }
   ],
   "source": [
    "headers={\"Authorization\": \"Basic Y2xpZW50MToxMjM=\"}\n",
    "q=requests.get('http://localhost:8080/',headers=headers)\n",
    "print(q)"
   ],
   "metadata": {
    "collapsed": false,
    "ExecuteTime": {
     "end_time": "2023-12-26T03:49:26.617025400Z",
     "start_time": "2023-12-26T03:49:26.608878900Z"
    }
   }
  },
  {
   "cell_type": "raw",
   "source": [
    "Test post request"
   ],
   "metadata": {
    "collapsed": false
   }
  },
  {
   "cell_type": "code",
   "execution_count": 4,
   "outputs": [
    {
     "name": "stdout",
     "output_type": "stream",
     "text": [
      "<Response [405]>\n"
     ]
    }
   ],
   "source": [
    "import requests\n",
    "headers={\"Authorization\": \"Basic Y2xpZW50MToxMjM=\"}\n",
    "q=requests.post('http://localhost:8080/',headers=headers)\n",
    "print(q)"
   ],
   "metadata": {
    "collapsed": false,
    "ExecuteTime": {
     "end_time": "2023-12-26T03:49:26.669451Z",
     "start_time": "2023-12-26T03:49:26.616024700Z"
    }
   }
  },
  {
   "cell_type": "raw",
   "source": [
    "Next, we will provide test examples based on the chapters in the project documentation. Each test is accompanied by a output. We do not check exact string matches for your output, as long as you complete the corresponding task.\n",
    "\n"
   ],
   "metadata": {
    "collapsed": false
   }
  },
  {
   "cell_type": "code",
   "execution_count": 5,
   "outputs": [
    {
     "name": "stdout",
     "output_type": "stream",
     "text": [
      "<Response [200]>\n",
      "<Response [200]>\n"
     ]
    }
   ],
   "source": [
    "#1.1\n",
    "headers={\"Authorization\": \"Basic Y2xpZW50MToxMjM=\"}\n",
    "session = requests.Session()\n",
    "session.headers.update({'Connection': 'keep-alive'})\n",
    "\n",
    "response1 = session.get('http://127.0.0.1:8080',headers=headers)\n",
    "response2 = session.get('http://127.0.0.1:8080',headers=headers)\n",
    "\n",
    "print(response1)\n",
    "print(response2)\n"
   ],
   "metadata": {
    "collapsed": false,
    "ExecuteTime": {
     "end_time": "2023-12-26T03:49:26.670449600Z",
     "start_time": "2023-12-26T03:49:26.622250800Z"
    }
   }
  },
  {
   "cell_type": "code",
   "execution_count": 6,
   "outputs": [
    {
     "name": "stdout",
     "output_type": "stream",
     "text": [
      "<Response [200]>\n",
      "<Response [200]>\n"
     ]
    }
   ],
   "source": [
    "#1.2\n",
    "#1.1\n",
    "headers={\"Authorization\": \"Basic Y2xpZW50MToxMjM=\"}\n",
    "session1 = requests.Session()\n",
    "session1.headers.update({'Connection': 'keep-alive'})\n",
    "session2 = requests.Session()\n",
    "session2.headers.update({'Connection': 'keep-alive'})\n",
    "\n",
    "response1 = session1.get('http://127.0.0.1:8080',headers=headers)\n",
    "response2 = session2.get('http://127.0.0.1:8080',headers=headers)\n",
    "\n",
    "\n",
    "print(response1)\n",
    "print(response2)\n"
   ],
   "metadata": {
    "collapsed": false,
    "ExecuteTime": {
     "end_time": "2023-12-26T03:49:26.671447500Z",
     "start_time": "2023-12-26T03:49:26.631436700Z"
    }
   }
  },
  {
   "cell_type": "code",
   "execution_count": 7,
   "outputs": [
    {
     "name": "stdout",
     "output_type": "stream",
     "text": [
      "<Response [200]>\n",
      "<Response [401]>\n"
     ]
    }
   ],
   "source": [
    "#1.3\n",
    "headers1={\"Authorization\": \"Basic Y2xpZW50MToxMjM=\"}\n",
    "headers2={}\n",
    "q=requests.head('http://localhost:8080/',headers=headers1)\n",
    "print(q)\n",
    "q=requests.head('http://localhost:8080/',headers=headers2)\n",
    "print(q)"
   ],
   "metadata": {
    "collapsed": false,
    "ExecuteTime": {
     "end_time": "2023-12-26T03:49:26.672448800Z",
     "start_time": "2023-12-26T03:49:26.638766400Z"
    }
   }
  },
  {
   "cell_type": "code",
   "execution_count": 8,
   "outputs": [
    {
     "name": "stdout",
     "output_type": "stream",
     "text": [
      "<Response [200]>\n",
      "['1.png', '12110518/', 'a.txt', 'client1/', 't1/', 'test.txt']\n"
     ]
    }
   ],
   "source": [
    "#2\n",
    "import requests\n",
    "url1='http://127.0.0.1:8080/?SUSTech-HTTP=1'\n",
    "\n",
    "headers={\"Authorization\": \"Basic Y2xpZW50MToxMjM=\"}\n",
    "r=requests.get(url=url1, headers=headers)\n",
    "print(r)\n",
    "print(r.content.decode())\n"
   ],
   "metadata": {
    "collapsed": false,
    "ExecuteTime": {
     "end_time": "2023-12-26T03:49:26.672448800Z",
     "start_time": "2023-12-26T03:49:26.646715300Z"
    }
   }
  },
  {
   "cell_type": "code",
   "execution_count": 9,
   "outputs": [
    {
     "name": "stdout",
     "output_type": "stream",
     "text": [
      "<html><body><ul><li><a href=\"/\">/ (Root Directory)</a></li><li><a href=\"/\">../ (Root Directory)</a></li><li><a href=\"\\1.png\">1.png</a></li><li><a href=\"\\12110518\">12110518</a></li><li><a href=\"\\a.txt\">a.txt</a></li><li><a href=\"\\client1\">client1</a></li><li><a href=\"\\t1\">t1</a></li><li><a href=\"\\test.txt\">test.txt</a></li></ul><form id=\"uploadForm\" method=\"post\" enctype=\"multipart/form-data\"><label for=\"url-input\">Upload location:</label><input type=\"text\" id=\"url-input\" placeholder=\"/\"><label for=\"file-upload\">Choose file:</label><input type=\"file\" id=\"file-upload\" name=\"file\"><input type=\"submit\" value=\"Upload File\"></form><script>    document.getElementById('uploadForm').onsubmit = function(event) {var actionUrl = document.getElementById('url-input').value; this.action = 'http://localhost:8080/upload?path=/client1/' + actionUrl; };</script></body></html>\n"
     ]
    }
   ],
   "source": [
    "#2\n",
    "url2='http://127.0.0.1:8080/?SUSTech-HTTP=0'\n",
    "\n",
    "headers={\"Authorization\": \"Basic Y2xpZW50MToxMjM=\"}\n",
    "r=requests.get(url=url2, headers=headers)\n",
    "print(r.content.decode())"
   ],
   "metadata": {
    "collapsed": false,
    "ExecuteTime": {
     "end_time": "2023-12-26T03:49:26.672448800Z",
     "start_time": "2023-12-26T03:49:26.653627Z"
    }
   }
  },
  {
   "cell_type": "code",
   "execution_count": 10,
   "outputs": [
    {
     "name": "stdout",
     "output_type": "stream",
     "text": [
      "sadfsdfasdf\n"
     ]
    }
   ],
   "source": [
    "#2\n",
    "headers={\"Authorization\": \"Basic Y2xpZW50MToxMjM=\"}\n",
    "r=requests.get(url='http://127.0.0.1:8080/a.txt', headers=headers)\n",
    "print(r.content.decode())"
   ],
   "metadata": {
    "collapsed": false,
    "ExecuteTime": {
     "end_time": "2023-12-26T03:49:26.802766300Z",
     "start_time": "2023-12-26T03:49:26.659449500Z"
    }
   }
  },
  {
   "cell_type": "code",
   "execution_count": 11,
   "outputs": [
    {
     "name": "stdout",
     "output_type": "stream",
     "text": [
      "<Response [200]>\n",
      "<Response [403]>\n"
     ]
    }
   ],
   "source": [
    "#3.1\n",
    "import requests\n",
    "files = {\"firstFile\": open('tmp/a.txt', \"rb\")}\n",
    "\n",
    "\n",
    "data={}\n",
    "headers={\"Authorization\": \"Basic Y2xpZW50MToxMjM=\"}\n",
    "r=requests.post(url='http://127.0.0.1:8080/upload?path=client1/',data=data,headers=headers, files=files)\n",
    "print(r)\n",
    "r=requests.post(url='http://127.0.0.1:8080/upload?path=client2/',data=data,headers=headers, files=files)\n",
    "print(r)"
   ],
   "metadata": {
    "collapsed": false,
    "ExecuteTime": {
     "end_time": "2023-12-26T03:49:26.803766700Z",
     "start_time": "2023-12-26T03:49:26.722026600Z"
    }
   }
  },
  {
   "cell_type": "code",
   "execution_count": 12,
   "outputs": [
    {
     "name": "stdout",
     "output_type": "stream",
     "text": [
      "<Response [404]>\n"
     ]
    }
   ],
   "source": [
    "#3.2\n",
    "url='http://127.0.0.1:8080/delete?path=client1/a.py'\n",
    "\n",
    "headers={\"Authorization\": \"Basic Y2xpZW50MToxMjM=\"}\n",
    "r=requests.post(url=url, headers=headers)\n",
    "print(r)"
   ],
   "metadata": {
    "collapsed": false,
    "ExecuteTime": {
     "end_time": "2023-12-26T03:49:26.804765600Z",
     "start_time": "2023-12-26T03:49:26.731067400Z"
    }
   }
  },
  {
   "cell_type": "code",
   "execution_count": 13,
   "outputs": [
    {
     "name": "stdout",
     "output_type": "stream",
     "text": [
      "3f73565eb4dd946a55a44047ba8b56b7d97546a30d0d1f4996475e8b31b55bd2\n",
      "<Response [200]>\n"
     ]
    }
   ],
   "source": [
    "#4\n",
    "url='http://127.0.0.1:8080/'\n",
    "\n",
    "headers={\"Authorization\": \"Basic Y2xpZW50MToxMjM=\"}\n",
    "r=requests.get(url=url, headers=headers)\n",
    "print(r.cookies.values()[0])\n",
    "headers={\"Cookie\":'session-id='+r.cookies.values()[0]}\n",
    "q=requests.get('http://localhost:8080/',headers=headers)\n",
    "print(q)\n"
   ],
   "metadata": {
    "collapsed": false,
    "ExecuteTime": {
     "end_time": "2023-12-26T03:49:26.804765600Z",
     "start_time": "2023-12-26T03:49:26.739150800Z"
    }
   }
  },
  {
   "cell_type": "code",
   "execution_count": 14,
   "outputs": [
    {
     "name": "stdout",
     "output_type": "stream",
     "text": [
      "<Response [200]>\n"
     ]
    }
   ],
   "source": [
    "#5\n",
    "headers={\"Authorization\": \"Basic Y2xpZW50MToxMjM=\"}\n",
    "r=requests.get(url='http://127.0.0.1:8080/client1/a.txt?chunked=1', headers=headers)\n",
    "print(r)"
   ],
   "metadata": {
    "collapsed": false,
    "ExecuteTime": {
     "end_time": "2023-12-26T03:49:26.805767400Z",
     "start_time": "2023-12-26T03:49:26.749336100Z"
    }
   }
  },
  {
   "cell_type": "code",
   "execution_count": 16,
   "outputs": [
    {
     "name": "stdout",
     "output_type": "stream",
     "text": [
      "<html><body><ul><li><a href=\"/\">/ (Root Directory)</a></li><li><a href=\"/\">../ (Root Directory)</a></li><li><a href=\"\\1.png\">1.png</a></li><li><a href=\"\\12110518\">12110518</a></li><li><a href=\"\\a.txt\">a.txt</a></li><li><a href=\"\\client1\">client1</a></li><li><a href=\"\\t1\">t1</a></li><li><a href=\"\\test.txt\">test.txt</a></li></ul><form id=\"uploadForm\" method=\"post\" enctype=\"multipart/form-data\"><label for=\"url-input\">Upload location:</label><input type=\"text\" id=\"url-input\" placeholder=\"/\"><label for=\"file-upload\">Choose file:</label><input type=\"file\" id=\"file-upload\" name=\"file\"><input type=\"submit\" value=\"Upload File\"></form><script>    document.getElementById('uploadForm').onsubmit = function(event) {var actionUrl = document.getElementById('url-input').value; this.action = 'http://localhost:8080/upload?path=/client1/' + actionUrl; };</script></body></html>\n"
     ]
    }
   ],
   "source": [
    "#Breakpoint Transmission\n",
    "url='http://127.0.0.1:8080/client1/a.txt'\n",
    "\n",
    "data={}\n",
    "headers={\"Authorization\": \"Basic Y2xpZW50MToxMjM=\",\n",
    "         \"Range\": \"0-1,1-2,2-3\"}\n",
    "r=requests.get(url=url, data=data, headers=headers)\n",
    "print(r.content.decode())"
   ],
   "metadata": {
    "collapsed": false,
    "ExecuteTime": {
     "end_time": "2023-12-26T03:49:57.693712900Z",
     "start_time": "2023-12-26T03:49:57.688650900Z"
    }
   }
  }
 ],
 "metadata": {
  "kernelspec": {
   "display_name": "Python 3",
   "language": "python",
   "name": "python3"
  },
  "language_info": {
   "codemirror_mode": {
    "name": "ipython",
    "version": 2
   },
   "file_extension": ".py",
   "mimetype": "text/x-python",
   "name": "python",
   "nbconvert_exporter": "python",
   "pygments_lexer": "ipython2",
   "version": "2.7.6"
  }
 },
 "nbformat": 4,
 "nbformat_minor": 0
}
