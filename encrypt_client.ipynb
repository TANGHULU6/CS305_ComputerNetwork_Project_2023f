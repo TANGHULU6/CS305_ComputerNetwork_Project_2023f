{
 "cells": [
  {
   "cell_type": "markdown",
   "source": [
    "# Encrypt Client"
   ],
   "metadata": {
    "collapsed": false
   }
  },
  {
   "cell_type": "code",
   "execution_count": 6,
   "outputs": [],
   "source": [
    "import requests"
   ],
   "metadata": {
    "collapsed": false,
    "ExecuteTime": {
     "end_time": "2023-12-31T07:58:28.342923600Z",
     "start_time": "2023-12-31T07:58:28.310422800Z"
    }
   }
  },
  {
   "cell_type": "markdown",
   "source": [
    "## 1. Get public key from server"
   ],
   "metadata": {
    "collapsed": false
   }
  },
  {
   "cell_type": "code",
   "execution_count": 7,
   "outputs": [
    {
     "name": "stdout",
     "output_type": "stream",
     "text": [
      "<Response [200]>\n",
      "\n",
      "b'-----BEGIN PUBLIC KEY-----\\nMIIBIjANBgkqhkiG9w0BAQEFAAOCAQ8AMIIBCgKCAQEAvj2YjA2ElbtszsUQCjzB\\nMz4Yfc2em9D7Kn8Y2lbcUT0KYFEOlylpq8b9785D1nCS08KkzVOJzZlG5ufCSjVA\\nbspfTv3+D6sf//gezEeHAH5fnBb7zY5YaERzNOYBcH+RwUFhv5MK/fWXVV/v487u\\neQTxyn0uZquOPfEVas9KYgD3yr6/j6idsPnQn7/z7V4QbwTTy9Ox234MX3FTblHX\\n276c23J/zGwNN08ZwhffUkxuZoChXC0tqQLwkr2RmRnqE95YE+vyOqs6fot2h1Wy\\nCiexirGs4SyfxVHCiAzxsasFoMtsBP2ANkMiTiWb8Us3+D96Zx84NWVa0h3cIsmf\\nuQIDAQAB\\n-----END PUBLIC KEY-----\\n'\n"
     ]
    }
   ],
   "source": [
    "public_key = requests.get('http://localhost:8080/getPublicKey')\n",
    "print(public_key)\n",
    "print()\n",
    "print(public_key.text)"
   ],
   "metadata": {
    "collapsed": false,
    "ExecuteTime": {
     "end_time": "2023-12-31T07:58:28.343920100Z",
     "start_time": "2023-12-31T07:58:28.329177200Z"
    }
   }
  },
  {
   "cell_type": "markdown",
   "source": [
    "## 2. Generate a symmetric key and use the server public key to encrypt it"
   ],
   "metadata": {
    "collapsed": false
   }
  },
  {
   "cell_type": "code",
   "execution_count": 8,
   "outputs": [
    {
     "name": "stdout",
     "output_type": "stream",
     "text": [
      "b'\\n-----BEGIN PUBLIC KEY-----\\nMIIBIjANBgkqhkiG9w0BAQEFAAOCAQ8AMIIBCgKCAQEAvj2YjA2ElbtszsUQCjzB\\nMz4Yfc2em9D7Kn8Y2lbcUT0KYFEOlylpq8b9785D1nCS08KkzVOJzZlG5ufCSjVA\\nbspfTv3+D6sf//gezEeHAH5fnBb7zY5YaERzNOYBcH+RwUFhv5MK/fWXVV/v487u\\neQTxyn0uZquOPfEVas9KYgD3yr6/j6idsPnQn7/z7V4QbwTTy9Ox234MX3FTblHX\\n276c23J/zGwNN08ZwhffUkxuZoChXC0tqQLwkr2RmRnqE95YE+vyOqs6fot2h1Wy\\nCiexirGs4SyfxVHCiAzxsasFoMtsBP2ANkMiTiWb8Us3+D96Zx84NWVa0h3cIsmf\\nuQIDAQAB\\n-----END PUBLIC KEY-----\\n'\n",
      "\n",
      "b'vr\\xed\\xeeJ\\x10\\x98\\xbb\\x1d\\xe1R2/]DG\\xfd\\x04fr\\x81\\x8e\\xb5\\x9e\\x0b\\xda\\xb8\\x1b\\xd7rK\\xf6'\n",
      "\n",
      "b'\\x03[\\xc4\\x8aX\\xd2>\\xb6\\x1e&\\x858\\xb2o\\n\\xdf\\xeb\\x88\\xda\\xbd\\xe0\\xbdP\\x9c\\xfd\\xb4\\x97\\xe1\\x84^\\xcdw/\\xed\\'hR\\xfe/\\xf3\\xbaq\\xfe\\xa3\\x04\\x1f\\x01{u5\\xa7\\xd8\\xaa\\t\\x8e\\xe3\\x05\\xc1\\xa5\\xa2\\xaf\\xb9VjV\\x8c8)\\xe3\\xb53\\x14d\\xe9\\x9ba\\x97\\x0el\\x9a7B\\x983\\xdd=:@K\\xe0\\xcc\\xed\\x94Qi\\xfa\\xaf\\xd8\\\\\\xed\\xa23p\\x05\\x01v\\xca\\xb2\\x82\\x06N\\xc0\\xfcs*]\\x9795\\x00\\xbf\\xe7;\\x93\\xa7\\xfe\\xa0\\xdf-\\x07_\\xee\\xbf\\xf8A\\xca\\x0e4\\xf7\\x93\\x148^\\x87:\\x01\\x93\\x81\\x19\\xbe#V\\xb48\\x1d\\xc7\\xf3\\x16\\xe1+\\xc0\\xd0\\x87A\\xc35\\xfa\\x1a_\\xd5UJfUBc\\t|l)\\x0c@tSf\\x1a\\xae\\xa4\\xbcc]\"\\xa53\\xc6;\\xa2UX\\x80\\x9cH\\xcf4?<\\xf53\\x1b\\xcc\\\\\\xb8L\\xf1\\x02\\x08\\t*\\x91\\x9f\\x13i\\x95$.\\xfc\\xe1=\\x16\\x04+\\x7f\\xa6\\xd3\\x1aA\\xd9\\xc4V\\xae\\x92q\\xd7\\xc3R\\xe7\\x18\\xe3\\x83\\x9a\\xa5\\xd3\\xe1\\xe1|\\xe9'\n"
     ]
    }
   ],
   "source": [
    "import os\n",
    "from cryptography.hazmat.primitives.asymmetric import padding\n",
    "from cryptography.hazmat.primitives import hashes\n",
    "from cryptography.hazmat.primitives.serialization import load_pem_public_key\n",
    "\n",
    "def encrypt_symmetric_key_with_public_key(public_key_pem, symmetric_key):\n",
    "    public_key = load_pem_public_key(public_key_pem)\n",
    "\n",
    "    encrypted_key = public_key.encrypt(\n",
    "        symmetric_key,\n",
    "        padding.OAEP(\n",
    "            mgf=padding.MGF1(algorithm=hashes.SHA256()),\n",
    "            algorithm=hashes.SHA256(),\n",
    "            label=None\n",
    "        )\n",
    "    )\n",
    "    return encrypted_key\n",
    "\n",
    "# 客户端生成一个随机的AES密钥\n",
    "aes_key = os.urandom(32)  # 例如，使用32字节的密钥\n",
    "\n",
    "print(('\\n' + public_key.text[2:-1].replace(\"\\\\n\", \"\\n\")).encode())\n",
    "\n",
    "# 加密AES密钥\n",
    "encrypted_aes_key = encrypt_symmetric_key_with_public_key(('\\n' + public_key.text[2:-1].replace(\"\\\\n\", \"\\n\")).encode(), aes_key)\n",
    "\n",
    "print()\n",
    "print(aes_key)\n",
    "print()\n",
    "print(encrypted_aes_key)"
   ],
   "metadata": {
    "collapsed": false,
    "ExecuteTime": {
     "end_time": "2023-12-31T07:58:28.357171700Z",
     "start_time": "2023-12-31T07:58:28.342923600Z"
    }
   }
  },
  {
   "cell_type": "markdown",
   "source": [
    "## 3. Send encrypted key to server"
   ],
   "metadata": {
    "collapsed": false
   }
  },
  {
   "cell_type": "code",
   "execution_count": 9,
   "outputs": [
    {
     "name": "stdout",
     "output_type": "stream",
     "text": [
      "<Response [200]>\n",
      "Send Success!\n"
     ]
    }
   ],
   "source": [
    "res = requests.post('http://localhost:8080/sendEncryptKey', data=encrypted_aes_key)\n",
    "print(res)\n",
    "print(res.text)"
   ],
   "metadata": {
    "collapsed": false,
    "ExecuteTime": {
     "end_time": "2023-12-31T07:58:28.434569200Z",
     "start_time": "2023-12-31T07:58:28.359818100Z"
    }
   }
  },
  {
   "cell_type": "markdown",
   "source": [
    "## 4. Encrypted communication with the server"
   ],
   "metadata": {
    "collapsed": false
   }
  },
  {
   "cell_type": "code",
   "execution_count": 10,
   "outputs": [
    {
     "name": "stdout",
     "output_type": "stream",
     "text": [
      "<Response [200]>\n",
      "b'Upload success!'\n",
      "b'sadfsdfasdf'\n"
     ]
    }
   ],
   "source": [
    "import AES\n",
    "import io\n",
    "\n",
    "with open(\"tmp/a.txt\", 'rb') as file:\n",
    "    file_data = file.read()\n",
    "encrypted_data = AES.aes_encrypt(aes_key, file_data)\n",
    "# 创建一个内存中的字节流\n",
    "encrypted_file = io.BytesIO(encrypted_data)\n",
    "files = {'file': ('a.txt', encrypted_file)} # 使用内存中的字节流\n",
    "\n",
    "headers = {\"Authorization\": \"Basic Y2xpZW50MToxMjM=\", \"X-Content-Encrypted\": \"true\"}\n",
    "res = requests.post(url='http://127.0.0.1:8080/upload?path=client1/', headers=headers, files=files)\n",
    "print(res)\n",
    "print(AES.aes_decrypt(aes_key, res.content))\n",
    "\n",
    "headers = {\"Authorization\": \"Basic Y2xpZW50MToxMjM=\", \"X-Content-Encrypted\": \"true\"}\n",
    "res = requests.get(url='http://127.0.0.1:8080/client1/a.txt', headers=headers)\n",
    "print(AES.aes_decrypt(aes_key, res.content))"
   ],
   "metadata": {
    "collapsed": false,
    "ExecuteTime": {
     "end_time": "2023-12-31T07:58:28.470497600Z",
     "start_time": "2023-12-31T07:58:28.438130200Z"
    }
   }
  }
 ],
 "metadata": {
  "kernelspec": {
   "display_name": "Python 3",
   "language": "python",
   "name": "python3"
  },
  "language_info": {
   "codemirror_mode": {
    "name": "ipython",
    "version": 2
   },
   "file_extension": ".py",
   "mimetype": "text/x-python",
   "name": "python",
   "nbconvert_exporter": "python",
   "pygments_lexer": "ipython2",
   "version": "2.7.6"
  }
 },
 "nbformat": 4,
 "nbformat_minor": 0
}
