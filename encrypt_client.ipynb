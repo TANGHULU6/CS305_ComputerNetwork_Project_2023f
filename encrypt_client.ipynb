{
 "cells": [
  {
   "cell_type": "markdown",
   "source": [
    "# Encrypt Client"
   ],
   "metadata": {
    "collapsed": false
   }
  },
  {
   "cell_type": "code",
   "execution_count": 93,
   "outputs": [],
   "source": [
    "import requests"
   ],
   "metadata": {
    "collapsed": false,
    "ExecuteTime": {
     "end_time": "2023-12-29T09:49:17.756567Z",
     "start_time": "2023-12-29T09:49:17.737567600Z"
    }
   }
  },
  {
   "cell_type": "markdown",
   "source": [
    "## 1. Get public key from server"
   ],
   "metadata": {
    "collapsed": false
   }
  },
  {
   "cell_type": "code",
   "execution_count": 94,
   "outputs": [
    {
     "name": "stdout",
     "output_type": "stream",
     "text": [
      "<Response [200]>\n",
      "\n",
      "b'-----BEGIN PUBLIC KEY-----\\nMIIBIjANBgkqhkiG9w0BAQEFAAOCAQ8AMIIBCgKCAQEAvj2YjA2ElbtszsUQCjzB\\nMz4Yfc2em9D7Kn8Y2lbcUT0KYFEOlylpq8b9785D1nCS08KkzVOJzZlG5ufCSjVA\\nbspfTv3+D6sf//gezEeHAH5fnBb7zY5YaERzNOYBcH+RwUFhv5MK/fWXVV/v487u\\neQTxyn0uZquOPfEVas9KYgD3yr6/j6idsPnQn7/z7V4QbwTTy9Ox234MX3FTblHX\\n276c23J/zGwNN08ZwhffUkxuZoChXC0tqQLwkr2RmRnqE95YE+vyOqs6fot2h1Wy\\nCiexirGs4SyfxVHCiAzxsasFoMtsBP2ANkMiTiWb8Us3+D96Zx84NWVa0h3cIsmf\\nuQIDAQAB\\n-----END PUBLIC KEY-----\\n'\n"
     ]
    }
   ],
   "source": [
    "public_key = requests.get('http://localhost:8080/getPublicKey')\n",
    "print(public_key)\n",
    "print()\n",
    "print(public_key.text)"
   ],
   "metadata": {
    "collapsed": false,
    "ExecuteTime": {
     "end_time": "2023-12-29T09:49:17.788567Z",
     "start_time": "2023-12-29T09:49:17.749568400Z"
    }
   }
  },
  {
   "cell_type": "markdown",
   "source": [
    "## 2. Generate a symmetric key and use the server public key to encrypt it"
   ],
   "metadata": {
    "collapsed": false
   }
  },
  {
   "cell_type": "code",
   "execution_count": 95,
   "outputs": [
    {
     "name": "stdout",
     "output_type": "stream",
     "text": [
      "b'\\n-----BEGIN PUBLIC KEY-----\\nMIIBIjANBgkqhkiG9w0BAQEFAAOCAQ8AMIIBCgKCAQEAvj2YjA2ElbtszsUQCjzB\\nMz4Yfc2em9D7Kn8Y2lbcUT0KYFEOlylpq8b9785D1nCS08KkzVOJzZlG5ufCSjVA\\nbspfTv3+D6sf//gezEeHAH5fnBb7zY5YaERzNOYBcH+RwUFhv5MK/fWXVV/v487u\\neQTxyn0uZquOPfEVas9KYgD3yr6/j6idsPnQn7/z7V4QbwTTy9Ox234MX3FTblHX\\n276c23J/zGwNN08ZwhffUkxuZoChXC0tqQLwkr2RmRnqE95YE+vyOqs6fot2h1Wy\\nCiexirGs4SyfxVHCiAzxsasFoMtsBP2ANkMiTiWb8Us3+D96Zx84NWVa0h3cIsmf\\nuQIDAQAB\\n-----END PUBLIC KEY-----\\n'\n",
      "\n",
      "b'6\\xb5A1\\x05\\xa5\\xaf4>\\x9bg\\xc1v\\x83H$/\\x8c\\x11\\xcf\\xaa\\x8c\\xac\\x85[\\xddO\\x11\\x9b=\\x04['\n",
      "\n",
      "b'\\r\\xc6\\xf3X\\xe7\\x96\\xfc\\xc1:n8k y\\x15\\x92\\xe3\\xac~\\xf1\\x94Q\\xdf7\\xdc\\x89\\x03\\xa3w\\x88\\xe8\\xdc\\xc8n\\xa0W\\x99\\xed\\xe9\\xdcc\\xa8\\x08^\\xd9\\xa74\\x19\\xacW\\x04\\x8et\\xd5y\\xb9\\x98M\\xe7\\x8d#\\x88\\x90\\xe5\\xc8\\xfb\\xf7~\\x81\\xa5$\\x18D_\\x8e\\x83j{\\'O\\xadw\\xe6Ui{\\x89\\xf6\\x97\\xdc\\x01\\x84TJ\\x99\\xac\\x82x)=qO~\\xac\\xf1\\xd1\\xd5\\xeb\\xf3\\x95(\\x02\\x03\\x9f\\x9f\\x81\\x9d\\x93\\xae\\x0f\\xaeX\\x18\\x00w\\xfd8\\x9f\\xbe\\xd2]\\xdc\"\\x01\\x14\\xe7+\\x85\\x18]\\xa0\\x9d\\xbb\\xbe\\x14\\xd6\\xf4\\xe3\\xb8n?\\x8b\\x8bL\\x89\\x90\\xb3\\x8a\\x04yc\\x94\\xb7\\xaeey\\xf6zL\\xf1]\\x97\\x89\\x98\\x0e\\x03\\xb2<\\xc0\\xcd\\xb19\\xc4\\xbd0f\\xab\\xfa\\xae\\xfb\\x80\\x80\\'\\x9f\\xf8\\xf8\\x02\\xe3`\\x02\\x1es\\xbe\\x96\\xa6M\\x8c\\xdapp\\xea\\xc2\\x9f\\x1er\\x1fZDv\\xe6\\xe6Yca\\xed4@@\\xdd0\\xb9E&\")}\\xa6\\xf3`\\xee~hN\\xb0\\xcb\\x87\\xe2\\x94\\x1e\\x17\\x84\\xff\\xdb\\xded\\x16'\n"
     ]
    }
   ],
   "source": [
    "import os\n",
    "from cryptography.hazmat.primitives.asymmetric import padding\n",
    "from cryptography.hazmat.primitives import hashes\n",
    "from cryptography.hazmat.primitives.serialization import load_pem_public_key\n",
    "\n",
    "def encrypt_symmetric_key_with_public_key(public_key_pem, symmetric_key):\n",
    "    public_key = load_pem_public_key(public_key_pem)\n",
    "\n",
    "    encrypted_key = public_key.encrypt(\n",
    "        symmetric_key,\n",
    "        padding.OAEP(\n",
    "            mgf=padding.MGF1(algorithm=hashes.SHA256()),\n",
    "            algorithm=hashes.SHA256(),\n",
    "            label=None\n",
    "        )\n",
    "    )\n",
    "    return encrypted_key\n",
    "\n",
    "# 客户端生成一个随机的AES密钥\n",
    "aes_key = os.urandom(32)  # 例如，使用32字节的密钥\n",
    "\n",
    "print(('\\n' + public_key.text[2:-1].replace(\"\\\\n\", \"\\n\")).encode())\n",
    "\n",
    "# 加密AES密钥\n",
    "encrypted_aes_key = encrypt_symmetric_key_with_public_key(('\\n' + public_key.text[2:-1].replace(\"\\\\n\", \"\\n\")).encode(), aes_key)\n",
    "\n",
    "print()\n",
    "print(aes_key)\n",
    "print()\n",
    "print(encrypted_aes_key)"
   ],
   "metadata": {
    "collapsed": false,
    "ExecuteTime": {
     "end_time": "2023-12-29T09:49:17.797566400Z",
     "start_time": "2023-12-29T09:49:17.765567100Z"
    }
   }
  },
  {
   "cell_type": "markdown",
   "source": [
    "## 3. Send encrypted key to server"
   ],
   "metadata": {
    "collapsed": false
   }
  },
  {
   "cell_type": "code",
   "execution_count": 96,
   "outputs": [
    {
     "name": "stdout",
     "output_type": "stream",
     "text": [
      "<Response [200]>\n",
      "Send Success!\n"
     ]
    }
   ],
   "source": [
    "res = requests.post('http://localhost:8080/sendEncryptKey', data=encrypted_aes_key)\n",
    "print(res)\n",
    "print(res.text)"
   ],
   "metadata": {
    "collapsed": false,
    "ExecuteTime": {
     "end_time": "2023-12-29T09:49:17.882566800Z",
     "start_time": "2023-12-29T09:49:17.788567Z"
    }
   }
  },
  {
   "cell_type": "markdown",
   "source": [
    "## 4. Encrypted communication with the server"
   ],
   "metadata": {
    "collapsed": false
   }
  },
  {
   "cell_type": "code",
   "execution_count": 97,
   "outputs": [
    {
     "name": "stdout",
     "output_type": "stream",
     "text": [
      "<Response [200]>\n",
      "b'Upload success!'\n",
      "b'sadfsdfasdf'\n"
     ]
    }
   ],
   "source": [
    "import AES\n",
    "import io\n",
    "\n",
    "with open(\"tmp/a.txt\", 'rb') as file:\n",
    "    file_data = file.read()\n",
    "encrypted_data = AES.aes_encrypt(aes_key, file_data)\n",
    "# 创建一个内存中的字节流\n",
    "encrypted_file = io.BytesIO(encrypted_data)\n",
    "files = {'file': ('a.txt', encrypted_file)} # 使用内存中的字节流\n",
    "\n",
    "headers = {\"Authorization\": \"Basic Y2xpZW50MToxMjM=\", \"X-Content-Encrypted\": \"true\"}\n",
    "res = requests.post(url='http://127.0.0.1:8080/upload?path=client1/', headers=headers, files=files)\n",
    "print(res)\n",
    "print(AES.aes_decrypt(aes_key, res.content))\n",
    "\n",
    "headers = {\"Authorization\": \"Basic Y2xpZW50MToxMjM=\", \"X-Content-Encrypted\": \"true\"}\n",
    "res = requests.get(url='http://127.0.0.1:8080/client1/a.txt', headers=headers)\n",
    "print(AES.aes_decrypt(aes_key, res.content))"
   ],
   "metadata": {
    "collapsed": false,
    "ExecuteTime": {
     "end_time": "2023-12-29T09:49:17.931566300Z",
     "start_time": "2023-12-29T09:49:17.882566800Z"
    }
   }
  }
 ],
 "metadata": {
  "kernelspec": {
   "display_name": "Python 3",
   "language": "python",
   "name": "python3"
  },
  "language_info": {
   "codemirror_mode": {
    "name": "ipython",
    "version": 2
   },
   "file_extension": ".py",
   "mimetype": "text/x-python",
   "name": "python",
   "nbconvert_exporter": "python",
   "pygments_lexer": "ipython2",
   "version": "2.7.6"
  }
 },
 "nbformat": 4,
 "nbformat_minor": 0
}
